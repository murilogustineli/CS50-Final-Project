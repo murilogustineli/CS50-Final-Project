{
 "cells": [
  {
   "cell_type": "markdown",
   "metadata": {},
   "source": [
    "## Creating a Football Draft Database\n",
    "The purpose of this program is to create a sample database."
   ]
  },
  {
   "cell_type": "code",
   "execution_count": null,
   "metadata": {},
   "outputs": [],
   "source": [
    "# Run the line below only if mySQL connector is not installed in the computer\n",
    "## pip install mysql-connector"
   ]
  },
  {
   "cell_type": "code",
   "execution_count": 1,
   "metadata": {},
   "outputs": [
    {
     "name": "stdout",
     "output_type": "stream",
     "text": [
      "Databae FootballDraftDB created\n",
      "Table User created\n"
     ]
    }
   ],
   "source": [
    "import mysql.connector # import mysql connector library\n",
    "\n",
    "# create a connect object\n",
    "conn = mysql.connector.connect(\n",
    "  host=\"localhost\", # server\n",
    "  user=\"root\", # user name\n",
    "  passwd=\"\" #password\n",
    ")\n",
    "\n",
    "# Create a cursor\n",
    "cur = conn.cursor()\n",
    "\n",
    "DB_CREATE_STR = 'CREATE DATABASE IF NOT EXISTS FootballDraftDB'\n",
    "USE_DB_STR='USE FootballDraftDB'\n",
    "TABLE_USER_STR = 'CREATE TABLE User (\\\n",
    "                    UserName varchar(50) NOT NULL PRIMARY KEY, \\\n",
    "                    FName varchar(50), \\\n",
    "                    LName varchar(50), \\\n",
    "                    Password varchar(25))'\n",
    "\n",
    "                    \n",
    "cur.execute(DB_CREATE_STR)\n",
    "cur.execute(USE_DB_STR)\n",
    "print('Databae FootballDraftDB created')\n",
    "cur.execute('DROP TABLE IF EXISTS User')\n",
    "\n",
    "\n",
    "cur.execute(TABLE_USER_STR)\n",
    "# Insert rows\n",
    "cur.execute(\"INSERT INTO User VALUES ( 'IamIronMan', 'Tony', 'Stark', 'IloveU3000')\")\n",
    "cur.execute(\"INSERT INTO User VALUES ( 'CaptainAmerica', 'Steve', 'Rodgers', 'IloveBucky' )\")\n",
    "cur.execute(\"INSERT INTO User VALUES ( 'IamBatman', 'Bruce', 'Wayne', 'DontTellAlfred' )\")\n",
    "cur.execute(\"INSERT INTO User VALUES ( 'SpiderMan', 'Peter', 'Parker', 'ImissUncleBen' )\")\n",
    "cur.execute(\"INSERT INTO User VALUES ( 'SuperMan', 'Clark', 'Kent', 'KryptoniteIsMyWeakness' )\")\n",
    "cur.execute(\"INSERT INTO User VALUES ( 'ToyStory', 'Buzz', 'Lightyear', 'ToInfinityAndBeyond' )\")\n",
    "\n",
    "print('Table User created')\n",
    "\n",
    "conn.commit()\n",
    "\n",
    "# conn.execute(\"SELECT UserId FROM User WHERE UserName = '+user+' and Password = '+password\")\n",
    "\n",
    "# close the connection\n",
    "conn.close ()"
   ]
  },
  {
   "cell_type": "code",
   "execution_count": null,
   "metadata": {},
   "outputs": [],
   "source": []
  }
 ],
 "metadata": {
  "kernelspec": {
   "display_name": "Python 3",
   "language": "python",
   "name": "python3"
  },
  "language_info": {
   "codemirror_mode": {
    "name": "ipython",
    "version": 3
   },
   "file_extension": ".py",
   "mimetype": "text/x-python",
   "name": "python",
   "nbconvert_exporter": "python",
   "pygments_lexer": "ipython3",
   "version": "3.7.1"
  }
 },
 "nbformat": 4,
 "nbformat_minor": 2
}
